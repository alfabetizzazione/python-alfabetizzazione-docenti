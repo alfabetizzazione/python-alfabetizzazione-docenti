{
 "cells": [
  {
   "cell_type": "markdown",
   "metadata": {},
   "source": [
    "# Esercizio Treni 2\n",
    "\n",
    "Ogni treno viene rappresentato con un dizionario con cinque coppie chiave-valore. Le chiavi sono:il codice del treno, la stazione di partenza, la stazione di arrivo, ora di partenza, minuto di partenza. Si prenda come esempio \n",
    "\n",
    "```python\n",
    "treno1 = {\"codice\":'AV1002',\n",
    "          \"da\":'Milano Centrale',\n",
    "          \"a\":'Napoli Centrale',\n",
    "          \"ora partenza\":18,\n",
    "          \"minuti partenza\":30}\n",
    "```\n",
    "che corrisponde al treno con codice AV1002 che parte da Milano Centrale alle 18:30, con destinazione Napoli Centrale.\n",
    "\n",
    "Si ricevono una lista di 4 treni:\n",
    "```python\n",
    "treni = [\n",
    "   {\"codice\":'AV1002', \"da\":'Milano Centrale', \"a\":'Napoli Centrale',    \"ora partenza\":18, \"minuti partenza\":30},\n",
    "   {\"codice\":'AV1022', \"da\":'Milano Centrale', \"a\":'Napoli Centrale',    \"ora partenza\":19, \"minuti partenza\":10},\n",
    "   {\"codice\":'AV1012', \"da\":'Napoli Centrale', \"a\":'Milano Centrale',    \"ora partenza\":18, \"minuti partenza\":50},\n",
    "   {\"codice\":'AV1013', \"da\":'Napoli Centrale', \"a\":'Milano Centrale',    \"ora partenza\":20, \"minuti partenza\":50},\n",
    "   {\"codice\":'AV1011', \"da\":'Napoli Centrale', \"a\":'Milano Centrale',    \"ora partenza\":21, \"minuti partenza\":0},\n",
    "   {\"codice\":'AV1311', \"da\":'Napoli Centrale', \"a\":'Torino Porta Nuova', \"ora partenza\":18, \"minuti partenza\":5}\n",
    "]\n",
    "```\n",
    "\n",
    "Scrivere un notebook che determini:\n",
    "\n",
    "1. Quanti sono i treni in partenza da Milano Centrale\n",
    "2. Quanti sono i treni in partenza da Milano Centrale con partenza dopo le 18:45\n",
    "3. Per ogni stazione, quante sono le sue possibili destinazioni\n",
    "4. Per ogni coppia (stazione di partenza, stazione di arrivo), quanti minuti passano fra ogni coppia su quella tratta? Per questo punto, i treni vengono presi nello stesso ordine in cui compaiono nella lista.    "
   ]
  },
  {
   "cell_type": "markdown",
   "metadata": {},
   "source": [
    "# Possibile soluzione\n",
    "\n",
    "Per prima cosa definiamo la lista treni come nel testo dell'esercizio."
   ]
  },
  {
   "cell_type": "code",
   "execution_count": 1,
   "metadata": {},
   "outputs": [
    {
     "name": "stdout",
     "output_type": "stream",
     "text": [
      "[{'codice': 'AV1002', 'da': 'Milano Centrale', 'a': 'Napoli Centrale', 'ora partenza': 18, 'minuti partenza': 30}, {'codice': 'AV1022', 'da': 'Milano Centrale', 'a': 'Napoli Centrale', 'ora partenza': 19, 'minuti partenza': 10}, {'codice': 'AV1012', 'da': 'Napoli Centrale', 'a': 'Milano Centrale', 'ora partenza': 18, 'minuti partenza': 50}, {'codice': 'AV1013', 'da': 'Napoli Centrale', 'a': 'Milano Centrale', 'ora partenza': 20, 'minuti partenza': 50}, {'codice': 'AV1011', 'da': 'Napoli Centrale', 'a': 'Milano Centrale', 'ora partenza': 21, 'minuti partenza': 0}, {'codice': 'AV1311', 'da': 'Napoli Centrale', 'a': 'Torino Porta Nuova', 'ora partenza': 18, 'minuti partenza': 5}]\n"
     ]
    }
   ],
   "source": [
    "treni = [\n",
    "   {\"codice\":'AV1002', \"da\":'Milano Centrale', \"a\":'Napoli Centrale',    \"ora partenza\":18, \"minuti partenza\":30},\n",
    "   {\"codice\":'AV1022', \"da\":'Milano Centrale', \"a\":'Napoli Centrale',    \"ora partenza\":19, \"minuti partenza\":10},\n",
    "   {\"codice\":'AV1012', \"da\":'Napoli Centrale', \"a\":'Milano Centrale',    \"ora partenza\":18, \"minuti partenza\":50},\n",
    "   {\"codice\":'AV1013', \"da\":'Napoli Centrale', \"a\":'Milano Centrale',    \"ora partenza\":20, \"minuti partenza\":50},\n",
    "   {\"codice\":'AV1011', \"da\":'Napoli Centrale', \"a\":'Milano Centrale',    \"ora partenza\":21, \"minuti partenza\":0},\n",
    "   {\"codice\":'AV1311', \"da\":'Napoli Centrale', \"a\":'Torino Porta Nuova', \"ora partenza\":18, \"minuti partenza\":5}\n",
    "]\n",
    "print(treni)"
   ]
  },
  {
   "cell_type": "markdown",
   "metadata": {},
   "source": [
    "## 1. Quanti sono i treni in partenza da Milano Centrale\n",
    "\n",
    "Esistono diversi modi per risolvere questo esercizio.  Iniziamo dal più semplice, utilizziamo un ciclo `for` per scandire gli elementi in `treni` e ogni volta che il campo `da` del dizionario sotto analisi nell'iterazione corrente è uguale a `Milano Centrale` incrementeremo una variabile `treni_da_MC` inizialmente settata a 0."
   ]
  },
  {
   "cell_type": "code",
   "execution_count": 2,
   "metadata": {},
   "outputs": [
    {
     "name": "stdout",
     "output_type": "stream",
     "text": [
      "2 treni partono da Milano Centrale\n"
     ]
    }
   ],
   "source": [
    "treni_da_MC = 0\n",
    "\n",
    "for treno in treni:\n",
    "    if treno['da'] == 'Milano Centrale':\n",
    "        treni_da_MC = treni_da_MC + 1\n",
    "print(treni_da_MC, \"treni partono da Milano Centrale\")"
   ]
  },
  {
   "cell_type": "markdown",
   "metadata": {},
   "source": [
    "Un secondo modo per risolvere questo esercizio è tramite l'utilizzo di un `Counter` (Capitolo 19.6 del libro).\n",
    "Per prima estraiamo la lista degli elementi nei campi `da` di tutti i dizioniari in `treni`."
   ]
  },
  {
   "cell_type": "code",
   "execution_count": 3,
   "metadata": {},
   "outputs": [
    {
     "name": "stdout",
     "output_type": "stream",
     "text": [
      "['Milano Centrale', 'Milano Centrale', 'Napoli Centrale', 'Napoli Centrale', 'Napoli Centrale', 'Napoli Centrale']\n"
     ]
    }
   ],
   "source": [
    "stazioni_di_partenza = []\n",
    "for treno in treni:\n",
    "    stazioni_di_partenza.append(treno['da'])\n",
    "print(stazioni_di_partenza)"
   ]
  },
  {
   "cell_type": "markdown",
   "metadata": {},
   "source": [
    "`stazioni_di_partenza` è chiaramente un multiinsieme e quindi possiamo creare un `Counter` a partire da questa lista.  Il valore ricercato sarà poi nella entry `Milano Centrale` di questa variabile."
   ]
  },
  {
   "cell_type": "code",
   "execution_count": 4,
   "metadata": {},
   "outputs": [
    {
     "name": "stdout",
     "output_type": "stream",
     "text": [
      "Counter({'Napoli Centrale': 4, 'Milano Centrale': 2})\n"
     ]
    }
   ],
   "source": [
    "from collections import Counter\n",
    "conteggi = Counter(stazioni_di_partenza)\n",
    "print(conteggi)"
   ]
  },
  {
   "cell_type": "code",
   "execution_count": 5,
   "metadata": {},
   "outputs": [
    {
     "name": "stdout",
     "output_type": "stream",
     "text": [
      "2 treni partono da Milano Centrale\n"
     ]
    }
   ],
   "source": [
    "print(conteggi['Milano Centrale'], \"treni partono da Milano Centrale\")"
   ]
  },
  {
   "cell_type": "markdown",
   "metadata": {},
   "source": [
    "## 2. Quanti sono i treni in partenza da Milano Centrale con partenza dopo le 18:45\n",
    "\n",
    "Questo esercizio è molto simile al precedente, è possibile modificare le condizioni dell'`if` della prima soluzione dell'esercizio 1 per ottenere il valore richiesto."
   ]
  },
  {
   "cell_type": "code",
   "execution_count": 6,
   "metadata": {},
   "outputs": [
    {
     "name": "stdout",
     "output_type": "stream",
     "text": [
      "1 treni partono da Milano Centrale dopo le 18.45\n"
     ]
    }
   ],
   "source": [
    "treni_da_MC_dopo_1845 = 0\n",
    "\n",
    "for treno in treni:\n",
    "    if treno['da'] == 'Milano Centrale' and (treno['ora partenza'] > 18 or (treno['ora partenza'] == 18 and treno['minuti partenza'] >= 45)):\n",
    "        treni_da_MC_dopo_1845 = treni_da_MC_dopo_1845 + 1\n",
    "\n",
    "print(treni_da_MC_dopo_1845, \"treni partono da Milano Centrale dopo le 18.45\")"
   ]
  },
  {
   "cell_type": "markdown",
   "metadata": {},
   "source": [
    "Potete notare come la condizione dell'`if` sia poco piacevole da leggere e difficile da leggere.\n",
    "Per rendere più leggibili le condizioni di successo dell'`if` possiamo scrivere una funzione `partenza_dopo_1845` che dato un treno restituisce `True` se il suo orario di partenza è successivo alle 18.45 o `False` in caso contrario."
   ]
  },
  {
   "cell_type": "code",
   "execution_count": 7,
   "metadata": {},
   "outputs": [],
   "source": [
    "def partenza_dopo_1845(treno):\n",
    "    if treno['ora partenza'] > 18:\n",
    "        return True\n",
    "    elif treno['ora partenza'] == 18 and treno['minuti partenza'] >= 45:\n",
    "        return True\n",
    "    else:\n",
    "        return False"
   ]
  },
  {
   "cell_type": "markdown",
   "metadata": {},
   "source": [
    "Possiamo ora utilizzare questa funzione per migliorare la leggibilità del codice precedente."
   ]
  },
  {
   "cell_type": "code",
   "execution_count": 8,
   "metadata": {},
   "outputs": [
    {
     "name": "stdout",
     "output_type": "stream",
     "text": [
      "1 treni partono da Milano Centrale dopo le 18.45\n"
     ]
    }
   ],
   "source": [
    "treni_da_MC_dopo_1845 = 0\n",
    "\n",
    "for treno in treni:\n",
    "    if treno['da'] == 'Milano Centrale' and partenza_dopo_1845(treno):\n",
    "        treni_da_MC_dopo_1845 = treni_da_MC_dopo_1845 + 1\n",
    "\n",
    "print(treni_da_MC_dopo_1845, \"treni partono da Milano Centrale dopo le 18.45\")"
   ]
  },
  {
   "cell_type": "markdown",
   "metadata": {},
   "source": [
    "Come potete notare, questa soluzione è più chiara della precedente."
   ]
  },
  {
   "cell_type": "markdown",
   "metadata": {},
   "source": [
    "## 3. Per ogni stazione, quante sono le sue possibili destinazioni\n",
    "\n",
    "Per risolvere questo esercizio è necessario raggruppare le destinazioni per stazione di partenza.\n",
    "Per fare ciò creiamo un dizionario le cui chiavi sono le varie stazioni di partenza che vengono associate alla lista delle destinazioni."
   ]
  },
  {
   "cell_type": "code",
   "execution_count": 9,
   "metadata": {},
   "outputs": [
    {
     "name": "stdout",
     "output_type": "stream",
     "text": [
      "Le destinazioni raggiungibili da Milano Centrale sono 2\n",
      "Le destinazioni raggiungibili da Napoli Centrale sono 4\n"
     ]
    }
   ],
   "source": [
    "destinazioni = {}\n",
    "\n",
    "for treno in treni:\n",
    "    stazione_partenza = treno['da']\n",
    "    destinazione = treno['a']\n",
    "    if stazione_partenza in destinazioni:\n",
    "        # Abbiamo già incontrato un treno che parte da stazione_partenza\n",
    "        # quindi dobbiamo solo aggiornare la lista\n",
    "        destinazioni[stazione_partenza].append(destinazione)\n",
    "    else:\n",
    "        # Quello corrente è il primo treno che parte da stazione_partenza\n",
    "        # quindi dobbiamo creare la lista\n",
    "        destinazioni[stazione_partenza] = [destinazione]\n",
    "\n",
    "for stazione_partenza in destinazioni.keys():\n",
    "    print(\"Le destinazioni raggiungibili da\", stazione_partenza, \"sono\", len(destinazioni[stazione_partenza]))"
   ]
  },
  {
   "cell_type": "markdown",
   "metadata": {},
   "source": [
    "*Il risultato è corretto?*\n",
    "\n",
    "No (da Milano Centrale possiamo raggiungere solo Napoli Centrale, quindi la risposta dovrebbe essere 1)\n",
    "\n",
    "*Perché?*\n",
    "\n",
    "Perché una lista può contenere elementi duplicati e noi salviamo la lista delle destinazioni.\n",
    "\n",
    "Per risolvere questo problema esistono almeno due approcci.\n",
    "\n",
    "1. All'interno del `for` del codice precedente, prima di aggiungere una destinazione verifichiamo che tale destinazione non sia già nella lista\n",
    "2. Al momento della stampa del numero di destinazioni convertiamo la lista in un set (che non può contenere elementi duplicati per definizione).\n",
    "\n",
    "Dato che la soluzione 1 è banale, viene mostrata solamente la soluzione 2."
   ]
  },
  {
   "cell_type": "code",
   "execution_count": 10,
   "metadata": {},
   "outputs": [
    {
     "name": "stdout",
     "output_type": "stream",
     "text": [
      "Le destinazioni raggiungibili da Milano Centrale sono 1\n",
      "Le destinazioni raggiungibili da Napoli Centrale sono 2\n"
     ]
    }
   ],
   "source": [
    "for stazione_partenza in destinazioni.keys():\n",
    "    numero_destinazioni_distinte = len( set( destinazioni[stazione_partenza] ) )\n",
    "    print(\"Le destinazioni raggiungibili da\", stazione_partenza, \"sono\", numero_destinazioni_distinte)"
   ]
  },
  {
   "cell_type": "markdown",
   "metadata": {},
   "source": [
    "Come potete vedere, eliminando gli elementi duplicati la soluzione è corretta."
   ]
  },
  {
   "cell_type": "markdown",
   "metadata": {},
   "source": [
    "## 4. Per ogni coppia (stazione di partenza, stazione di arrivo), quanti minuti passano fra ogni coppia su quella tratta? Per questo punto, i treni vengono presi nello stesso ordine in cui compaiono nella lista.\n",
    "\n",
    "Per prima cosa raggruppiamo in treni per coppie (stazione di partenza, stazione di arrivo).\n",
    "Per fare ciò creiamo un dizionario le cui chiavi saranno le varie stazioni di partenza.\n",
    "Ogni entry di questo dizionario sarà a sua volta un dizionario le cui chiavi saranno le possibili destinazioni e i valori le liste dei treni la cui tratta va dalla stazione di partenza alla stazione di arrivo."
   ]
  },
  {
   "cell_type": "code",
   "execution_count": 11,
   "metadata": {},
   "outputs": [],
   "source": [
    "gruppi_treni = {}\n",
    "\n",
    "for treno in treni:\n",
    "    stazione_partenza = treno['da']\n",
    "    stazione_arrivo = treno['a']\n",
    "    if stazione_partenza not in gruppi_treni:\n",
    "        gruppi_treni[stazione_partenza] = {}\n",
    "    if stazione_arrivo not in gruppi_treni[stazione_partenza]:\n",
    "        gruppi_treni[stazione_partenza][stazione_arrivo] = []\n",
    "    # A questo punto siamo sicuri che la lista in grupp_treni[stazione_partenza][stazione_arrivo]\n",
    "    # esiste.  Possiamo quindi appendere il treno a questa lista.\n",
    "    gruppi_treni[stazione_partenza][stazione_arrivo].append(treno)"
   ]
  },
  {
   "cell_type": "markdown",
   "metadata": {},
   "source": [
    "Visualizziamo i gruppi contenuti in `gruppi_treni` utilizzando due cicli `for` innestati."
   ]
  },
  {
   "cell_type": "code",
   "execution_count": 12,
   "metadata": {},
   "outputs": [
    {
     "name": "stdout",
     "output_type": "stream",
     "text": [
      "Treni che partono da Milano Centrale e che arrivano a Napoli Centrale\n",
      "   - AV1002\n",
      "   - AV1022\n",
      "Treni che partono da Napoli Centrale e che arrivano a Milano Centrale\n",
      "   - AV1012\n",
      "   - AV1013\n",
      "   - AV1011\n",
      "Treni che partono da Napoli Centrale e che arrivano a Torino Porta Nuova\n",
      "   - AV1311\n"
     ]
    }
   ],
   "source": [
    "for stazione_partenza in gruppi_treni.keys():\n",
    "    for stazione_arrivo in gruppi_treni[stazione_partenza].keys():\n",
    "        print(\"Treni che partono da\", stazione_partenza, \"e che arrivano a\", stazione_arrivo)\n",
    "        for treno in gruppi_treni[stazione_partenza][stazione_arrivo]:\n",
    "            print(\"   -\", treno['codice'])"
   ]
  },
  {
   "cell_type": "markdown",
   "metadata": {},
   "source": [
    "Possiamo ora iterare sugli elementi in ogni lista e stampare i tempi di percorrenza di due treni consecutivi.\n",
    "\n",
    "Scriviamo prima una funzione di supporto che dati due treni ritorna i minuti che intercorrono tra i due."
   ]
  },
  {
   "cell_type": "code",
   "execution_count": 13,
   "metadata": {},
   "outputs": [
    {
     "name": "stdout",
     "output_type": "stream",
     "text": [
      "minuti tra AV1002 e AV1022 40\n",
      "minuti tra AV1012 e AV1013 120\n"
     ]
    }
   ],
   "source": [
    "def distanza_minuti(treno1, treno2):\n",
    "    distanza_in_minuti = treno2['ora partenza']*60 - treno1['ora partenza']*60\n",
    "    distanza_in_minuti = distanza_in_minuti + (treno2['minuti partenza'] - treno1['minuti partenza'])\n",
    "    return abs(distanza_in_minuti)\n",
    "\n",
    "print(\"minuti tra\", treni[0]['codice'], \"e\", treni[1]['codice'], distanza_minuti(treni[0], treni[1]))\n",
    "print(\"minuti tra\", treni[2]['codice'], \"e\", treni[3]['codice'], distanza_minuti(treni[2], treni[3]))"
   ]
  },
  {
   "cell_type": "markdown",
   "metadata": {},
   "source": [
    "Utilizziamo ora questa funzione per calcolare i minuti tra i vari treni sulla stessa tratta."
   ]
  },
  {
   "cell_type": "code",
   "execution_count": 14,
   "metadata": {},
   "outputs": [
    {
     "name": "stdout",
     "output_type": "stream",
     "text": [
      "Nella tratta Milano Centrale -> Napoli Centrale i minuti che intercorrono fra i vari treni sono:\n",
      "  - 40 tra AV1002 e AV1022\n",
      "Nella tratta Napoli Centrale -> Milano Centrale i minuti che intercorrono fra i vari treni sono:\n",
      "  - 120 tra AV1012 e AV1013\n",
      "  - 10 tra AV1013 e AV1011\n",
      "Nella tratta Napoli Centrale -> Torino Porta Nuova c'è un solo treno\n"
     ]
    }
   ],
   "source": [
    "for stazione_partenza in gruppi_treni:\n",
    "    for stazione_arrivo in gruppi_treni[stazione_partenza]:\n",
    "        if len(gruppi_treni[stazione_partenza][stazione_arrivo]) < 2:\n",
    "            # In questo caso c'è un solo treno su questa tratta e quindi non è possibile\n",
    "            # calcolare la distanza in minuti tra due treni\n",
    "            print(\"Nella tratta\", stazione_partenza, \"->\", stazione_arrivo, \"c'è un solo treno\")\n",
    "        else:\n",
    "            print(\"Nella tratta\", stazione_partenza, \"->\", stazione_arrivo, \"i minuti che intercorrono fra i vari treni sono:\")\n",
    "            # Nella riga successiva utilizziamo -1 perché le coppie di treni successivi\n",
    "            # sulla tratta sono chiaramente il numero di treni sulla tratta meno 1.\n",
    "            for i in range( len( gruppi_treni[stazione_partenza][stazione_arrivo] ) - 1 ):\n",
    "                treno1 = gruppi_treni[stazione_partenza][stazione_arrivo][i]\n",
    "                treno2 = gruppi_treni[stazione_partenza][stazione_arrivo][i+1]\n",
    "                d = distanza_minuti(treno1, treno2)\n",
    "                print(\"  -\", d, \"tra\", treno1['codice'], \"e\", treno2['codice'])"
   ]
  }
 ],
 "metadata": {
  "kernelspec": {
   "display_name": "Python 3",
   "language": "python",
   "name": "python3"
  },
  "language_info": {
   "codemirror_mode": {
    "name": "ipython",
    "version": 3
   },
   "file_extension": ".py",
   "mimetype": "text/x-python",
   "name": "python",
   "nbconvert_exporter": "python",
   "pygments_lexer": "ipython3",
   "version": "3.6.7"
  }
 },
 "nbformat": 4,
 "nbformat_minor": 2
}
