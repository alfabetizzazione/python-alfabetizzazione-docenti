{
 "cells": [
  {
   "cell_type": "markdown",
   "metadata": {},
   "source": [
    "# LEZIONE  2 - Cosa e' necessario conoscere"
   ]
  },
  {
   "cell_type": "markdown",
   "metadata": {},
   "source": [
    "1) Come utilizzare e definire delle funzioni.\n",
    "\n",
    "```python\n",
    "def funzione(argomento):\n",
    "    print(argomento)\n",
    "    return\n",
    "\n",
    "funzione(3)\n",
    "funzione(\"Ciao\")\n",
    "```\n",
    "\n",
    "2) Come utilizzare le funzioni del modulo `math` di `python`\n",
    "\n",
    "3) Differenza tra funzione \"produttiva\" e funzione \"vuota\"\n",
    "\n",
    "4) Come comporre delle funzioni\n",
    "\n",
    "```python\n",
    "import math\n",
    "print(math.log(math.pow(10, 2)))\n",
    "```\n",
    "\n",
    "5) I cicli `while` e `for`, l'utilizzo dell'istruzione `break`\n",
    "\n",
    "6) I metodi `append` ed `extend` delle liste e la loro differenza.\n",
    "\n",
    "7) Come rimuovere un elemento da una lista\n",
    "\n",
    "8) Come iterare su di un dizionario (sia sulle chiavi che sui valori)\n",
    "\n",
    "9) Cos'e' un set"
   ]
  }
 ],
 "metadata": {
  "kernelspec": {
   "display_name": "Python 3",
   "language": "python",
   "name": "python3"
  },
  "language_info": {
   "codemirror_mode": {
    "name": "ipython",
    "version": 3
   },
   "file_extension": ".py",
   "mimetype": "text/x-python",
   "name": "python",
   "nbconvert_exporter": "python",
   "pygments_lexer": "ipython3",
   "version": "3.6.7"
  }
 },
 "nbformat": 4,
 "nbformat_minor": 2
}
