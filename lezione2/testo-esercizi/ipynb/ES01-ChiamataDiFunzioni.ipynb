{
 "cells": [
  {
   "cell_type": "markdown",
   "metadata": {},
   "source": [
    "### Esercizio 1 - Chiamata di funzioni\n",
    "\n",
    "1.1) Dato un valore numerico tra 1 e 10 salvato in una variabile `value` produrre:\n",
    "\n",
    "- il suo logaritmo in base 2\n",
    "- il valore di `value` al cubo\n",
    "- il valore di 2 alla `value`\n",
    "\n",
    "1.2) Dato un valore numerico negativo salvato in una variabile `negativeValue` produrre:\n",
    "\n",
    "- il suo valore assoluto\n",
    "- una stringa che rappresenta `negativeValue`"
   ]
  }
 ],
 "metadata": {
  "kernelspec": {
   "display_name": "Python 3",
   "language": "python",
   "name": "python3"
  },
  "language_info": {
   "codemirror_mode": {
    "name": "ipython",
    "version": 3
   },
   "file_extension": ".py",
   "mimetype": "text/x-python",
   "name": "python",
   "nbconvert_exporter": "python",
   "pygments_lexer": "ipython3",
   "version": "3.6.7"
  }
 },
 "nbformat": 4,
 "nbformat_minor": 2
}
