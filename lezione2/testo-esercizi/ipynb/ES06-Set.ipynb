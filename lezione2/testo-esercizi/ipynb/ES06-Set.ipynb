{
 "cells": [
  {
   "cell_type": "markdown",
   "metadata": {},
   "source": [
    "### ESERCIZIO 6 - Set\n",
    "\n",
    "6.1) Scrivere una funzione che accetta una lista e ritorna `True` se essa non contiene elementi duplicati o `False` in caso contrario.\n",
    "\n",
    "6.2) Definire due liste di numeri interi `x` e `y` con i seguenti valori\n",
    "```python\n",
    "x = [1, 2, 1, 3, 4, 10, 101, 7, 7]\n",
    "y = [4, 1, 5, 100, 99, 1, 101]\n",
    "```\n",
    "e calcolare gli elementi distinti condivisi tra le due (1, 4 e 101).\n",
    "\n",
    "6.3) Computare gli elementi distinti che sono in `x` e non in `y`"
   ]
  }
 ],
 "metadata": {
  "kernelspec": {
   "display_name": "Python 3",
   "language": "python",
   "name": "python3"
  },
  "language_info": {
   "codemirror_mode": {
    "name": "ipython",
    "version": 3
   },
   "file_extension": ".py",
   "mimetype": "text/x-python",
   "name": "python",
   "nbconvert_exporter": "python",
   "pygments_lexer": "ipython3",
   "version": "3.6.7"
  }
 },
 "nbformat": 4,
 "nbformat_minor": 2
}
