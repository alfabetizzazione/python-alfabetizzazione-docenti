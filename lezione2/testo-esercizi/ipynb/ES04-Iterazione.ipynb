{
 "cells": [
  {
   "cell_type": "markdown",
   "metadata": {},
   "source": [
    "### ESERCIZIO 4 - Iterazione\n",
    "\n",
    "4.1) Definire una funzione `myFactorial` che accetta un numero intero `value` e restituisce il valore del fattoriale di esso.\n",
    "\n",
    "Il fattoriale di `n` e' definito come la moltiplicazione di tutti i valori tra `1` e `n`."
   ]
  }
 ],
 "metadata": {
  "kernelspec": {
   "display_name": "Python 3",
   "language": "python",
   "name": "python3"
  },
  "language_info": {
   "codemirror_mode": {
    "name": "ipython",
    "version": 3
   },
   "file_extension": ".py",
   "mimetype": "text/x-python",
   "name": "python",
   "nbconvert_exporter": "python",
   "pygments_lexer": "ipython3",
   "version": "3.6.7"
  }
 },
 "nbformat": 4,
 "nbformat_minor": 2
}
