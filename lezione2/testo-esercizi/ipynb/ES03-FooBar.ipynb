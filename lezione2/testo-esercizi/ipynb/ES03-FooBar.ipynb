{
 "cells": [
  {
   "cell_type": "markdown",
   "metadata": {},
   "source": [
    "### ESERCIZIO 3 - Foobar\n",
    "\n",
    "Definire una funzione `foobar` che accetta un numero intero e ritorna:\n",
    "\n",
    "- la stringa `foobar` se il numero e' divisibile per 5 e per 3\n",
    "- la stringa `foo` se il numero e' divisibile per 5 ma non per 3\n",
    "- la stringa `bar` se il numero e' divisibile per 3 ma non per 5\n",
    "- il numero stesso se il numero non e' divisibile ne' per 3 ne' per 5"
   ]
  }
 ],
 "metadata": {
  "kernelspec": {
   "display_name": "Python 3",
   "language": "python",
   "name": "python3"
  },
  "language_info": {
   "codemirror_mode": {
    "name": "ipython",
    "version": 3
   },
   "file_extension": ".py",
   "mimetype": "text/x-python",
   "name": "python",
   "nbconvert_exporter": "python",
   "pygments_lexer": "ipython3",
   "version": "3.6.7"
  }
 },
 "nbformat": 4,
 "nbformat_minor": 2
}
