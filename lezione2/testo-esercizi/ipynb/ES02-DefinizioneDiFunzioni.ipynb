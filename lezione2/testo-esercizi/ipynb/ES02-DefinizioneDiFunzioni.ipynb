{
 "cells": [
  {
   "cell_type": "markdown",
   "metadata": {},
   "source": [
    "### ESERCIZIO 2 - Definizione di funzioni\n",
    "\n",
    "2.1) Definire una funzione chiamata `myName` senza parametri di input che ritorna il vostro nome\n",
    "\n",
    "2.2) Definire una funzione chiamata `myMax` che accetta due valori `x` e `y` in input e restituisce il valore massimo tra i due\n",
    "\n",
    "2.3) Definire una funzione chiamata `mySquare` che accetta un valore `x` e ritorna `x` elevato alla seconda\n",
    "\n",
    "2.4) Salvare due valori numerici tra 1 e 10 all'interno di due variabili `x` e `y`.  Utilizzando le funzioni definite in precedenza, verificare quale e' il valore massimo tra `x` al quadrato e `y` al quadrato.\n",
    "\n",
    "2.5) Definire una funzione `myAbs` che accetta un valore intero `x` e ritorna il valore assoluto di `x`.\n",
    "\n",
    "2.6) Definire una funzione `myPrime` che accetta un valore intero `x` e ritorna `True` nel caso `x` sia primo oppure `False` in caso contrario."
   ]
  }
 ],
 "metadata": {
  "kernelspec": {
   "display_name": "Python 3",
   "language": "python",
   "name": "python3"
  },
  "language_info": {
   "codemirror_mode": {
    "name": "ipython",
    "version": 3
   },
   "file_extension": ".py",
   "mimetype": "text/x-python",
   "name": "python",
   "nbconvert_exporter": "python",
   "pygments_lexer": "ipython3",
   "version": "3.6.7"
  }
 },
 "nbformat": 4,
 "nbformat_minor": 2
}
