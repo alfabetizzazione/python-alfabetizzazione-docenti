{
 "cells": [
  {
   "cell_type": "markdown",
   "metadata": {},
   "source": [
    "### ESERCIZIO 5 - Liste e metodi\n",
    "\n",
    "5.1) Creare una lista contentente i valori pari tra `1` e `10` chiamata `evens` ed una lista contenente i valori dispari tra `1` e `10` chiamata `odds`.\n",
    "\n",
    "5.2) Aggiungere il valore `11` in coda alla lista `odds`.\n",
    "\n",
    "5.3) Aggiungere il contenuto di `odds` a `evens`.\n",
    "\n",
    "5.4) Calcolare la somma dei valori contenuti in `odds`.\n",
    "\n",
    "5.5) Eliminare il primo elemento della lista `evens`.\n",
    "\n",
    "5.6) Eliminare `7` dalla lista `odds`.\n",
    "\n",
    "5.7) Creare una lista contenente i caratteri della frase `\"Ciao mamma guarda come mi diverto\"`.\n",
    "\n",
    "5.8) Scrivere una funzione che accetta una lista di caratteri e ne elimina i primi `4`.  Applicare questa funzione alla lista creata al punto 5.7.\n",
    "\n",
    "5.9) Scrivere una funzione che accetta una lista di stringhe e ne produce una copia senza le quelle con `a` come carattere iniziale."
   ]
  }
 ],
 "metadata": {
  "kernelspec": {
   "display_name": "Python 3",
   "language": "python",
   "name": "python3"
  },
  "language_info": {
   "codemirror_mode": {
    "name": "ipython",
    "version": 3
   },
   "file_extension": ".py",
   "mimetype": "text/x-python",
   "name": "python",
   "nbconvert_exporter": "python",
   "pygments_lexer": "ipython3",
   "version": "3.6.7"
  }
 },
 "nbformat": 4,
 "nbformat_minor": 2
}
