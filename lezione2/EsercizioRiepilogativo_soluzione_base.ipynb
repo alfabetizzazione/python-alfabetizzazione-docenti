{
 "cells": [
  {
   "cell_type": "markdown",
   "metadata": {},
   "source": [
    "# ESERCIZIO RIEPILOGATIVO\n",
    "## Testo:\n",
    "\n",
    "In input si ricevono due liste di 5 carte, dove ogni carta è indicate con una stringa di 2 caratteri, valore-seme, come nell'esercizio precedente. Le due liste si chiamano carteA e carteB.\n",
    "\n",
    "L'obiettivo è determinare quale dei due giocatori ha una combinazione di valore maggiore. Determinare la combinazione corrispondente ad una lista di 5 carte è stato l'esercizio precedente.\n",
    "\n",
    "Le combinazioni, in ordine decrescente di valore sono:\n",
    "- scala reale: i valori di tutte le carte sono consecutivi e tutti dello stesso seme. Es: [\"2Q\", \"3Q\", \"4Q\", \"5Q\", \"6Q\"] \n",
    "- poker: quattro carte con lo stesso valore. Es: [\"2Q\", \"5Q\", \"5C\", \"5P\", \"5F\"] \n",
    "- full: tre carte con lo stesso valore e altre 2 carte con lo stesso valore. Es: [\"5Q\", \"5C\", \"5P\", \"1Q\", \"1F\"] \n",
    "- colore: cinque carte con lo stesso seme. Es: [\"4Q\", \"5Q\", \"0Q\", \"KQ\", \"1Q\"] \n",
    "- scala: i valori di tutte le carte sono consecutivi. Es: [\"0Q\", \"JQ\", \"QC\", \"KF\", \"1Q\"] \n",
    "- tris: tre carte con lo stesso valore. Es: [\"5Q\", \"5C\", \"5P\", \"0F\", \"1Q\"] \n",
    "- doppia coppia: due coppie di carte con lo stesso valore. Es: [\"5Q\", \"5C\", \"KF\", \"1Q\", \"1P\"] \n",
    "- coppia: due carte con lo stesso valore. Es: [\"5C\", \"5P\", \"7F\", \"0Q\", \"1Q\"] \n",
    "- carta singola: nessuna delle combinazioni precedenti. Es: [\"2Q\", \"4C\", \"6Q\", \"7P\", \"9F\"]  \n",
    "     \n",
    "Le carte nella lista sono in ordine crescente di valore e le liste non contengono carte ripetute. Se due giocatori hanno la stessa combinazione, si ha un pareggio."
   ]
  },
  {
   "cell_type": "markdown",
   "metadata": {},
   "source": [
    "Scriviamo un codice molto simile a quello scritto nell'esercizio riassuntivo della prima lezione ma questa volta lo inseriremo in funzioni, visto che le stesse linee di codice dovranno essere eseguite per entrambi i giocatori. Alcune parti si possono semplificare usando le nuove conoscenze acquisite durante la seconda lezione."
   ]
  },
  {
   "cell_type": "code",
   "execution_count": 30,
   "metadata": {},
   "outputs": [],
   "source": [
    "manoG1 = [\"0F\", \"JP\", \"QP\", \"KP\", \"1Q\"]\n",
    "manoG2 = [\"KQ\", \"KF\", \"KC\", \"1F\", \"1F\"]"
   ]
  },
  {
   "cell_type": "code",
   "execution_count": 31,
   "metadata": {},
   "outputs": [],
   "source": [
    "#Prima di tutto importiamo la funzione Count dal modulo collections. Questa funzione, come vedrete, è utile per determinare i gruppi di carte\n",
    "from collections import Counter"
   ]
  },
  {
   "cell_type": "code",
   "execution_count": 32,
   "metadata": {},
   "outputs": [],
   "source": [
    "def determinaMano(mano): #questa funzione trasforma la mano del giocatore in un formato confrontabile\n",
    "    #Definiamo il dizionario per i valori delle carte. (questa volta è più comodo assegnare all'asso il valore 14)\n",
    "    valoriCarte = {'1': 1,\n",
    "                   '2': 2, \n",
    "                   '3': 3, \n",
    "                   '4': 4, \n",
    "                   '5': 5, \n",
    "                   '6': 6, \n",
    "                   '7': 7, \n",
    "                   '8': 8, \n",
    "                   '9': 9, \n",
    "                   '0': 10, \n",
    "                   'J': 11, \n",
    "                   'Q': 12, \n",
    "                   'K': 13\n",
    "                   }\n",
    "    #Definiamo ora anche il dizionario per il valore dei semi, ci servirà per confrontare due carte con lo stesso valore (variante 1 non obbligatoria)\n",
    "    \n",
    "    #Creiamo una lista di tuple in cui l'elemento 1 è il valore della carta e l'elemento 2 è il valore del seme\n",
    "    valoriMano = []\n",
    "    for carta in mano:\n",
    "        valoriMano.append(valoriCarte[carta[0]]) #aggiungo il valore della carta, uno alla volta\n",
    "    \n",
    "    \n",
    "    #Usiamo la funzione Counter per trovare in un colpo solo tutti i gruppi di carte e il relativo numero. \n",
    "    #Counter restituisce un dizionario.\n",
    "    gruppiCarte = Counter(valoriMano)\n",
    "    gruppiMostComm = gruppiCarte.most_common() #Con questa funzione trasformiamo il dizionario in una lista di tuple in cui i gruppi sono ordinati per frequenza (secondo elemento della tupla)\n",
    "\n",
    "    #Ora possiamo facilmente determinare la mano del giocatore\n",
    "  \n",
    "    #Determiniamo se i valori siano consecutivi\n",
    "    consecutivi = False\n",
    "    if len(gruppiMostComm) == 5: #Solo se ci sono 5 valori diversi ha senso verificare se siano o meno consecutivi\n",
    "        #I valori sono già ordinati e sono raccolti in gruppi quindi ci basterebbe controllare il primo e l'ultimo elemento della lista. Se hanno una differenza == 4 allora sono consecutivi perchè se ci fossero dei valori uguali i gruppi non sarebbero 5\n",
    "        #Nel nostro caso però dobbiamo anche gestire l'eccezione della scala 10,11,12,13,1 (ricordate che l'asso vale 1) controlliamo quindi se i primi 4 valori siano consecutivi, poi controlliamo l'ultimo e il penultimo valore (se anche loro sono consegutivi OPPURE sono 13 e 1 allora i valori sono consecutivi)\n",
    "        if gruppiMostComm[3][0] - gruppiMostComm[0][0] == 3 and (gruppiMostComm[4][0] - gruppiMostComm[3][0] == 1 or (gruppiMostComm[3][0] == 13 and gruppiMostComm[4][0] == 1)):\n",
    "            consecutivi = True\n",
    "            \n",
    "    #Determiniamo se i semi sono tutti uguali\n",
    "    stesso_seme = True\n",
    "    primoSeme = mano[0][1]\n",
    "    for c in mano[1:]: #dalla seconda carta in poi\n",
    "        if primoSeme != c[1]:\n",
    "            stesso_seme = False\n",
    "            break #Basta trovare un seme diverso non occorre verificarli tutti\n",
    "\n",
    "    #Determino il numero di carte più grande e più piccolo, visto che la lista di gruppi è ordinata per frequenza descrescente il gruppo più piccolo sarà l'ultimo, mentre il più grande sarà il primo\n",
    "    massimo = gruppiMostComm[0][1]\n",
    "    minimo = gruppiMostComm[-1][1]\n",
    "    \n",
    "    #Assegno ad ogni risultato un valore da 0 a 8 per confrontare le mani dei due giocatori e la stringa corrispondente. In pratica restituisco una lista di due elementi\n",
    "    if consecutivi and stesso_seme: \n",
    "        return [8, 'SCALA REALE']  \n",
    "    elif massimo == 4: #Poker: 4 carte con lo stesso valore\n",
    "        return [7, 'POKER']             \n",
    "    elif massimo == 3 and minimo == 2: #Full: 3 e 2 gruppi di valori.\n",
    "        return[6, 'FULL']             \n",
    "    elif stesso_seme: #Colore: basta avere carte con lo stesso seme\n",
    "        return [5, 'COLORE'] \n",
    "    elif consecutivi: #Scala: basta considerare se i valori sono tutti consecutivi\n",
    "        return [4, 'SCALA']\n",
    "    elif massimo == 3: #Tris: dopo aver escluso il full, se c'è un gruppo da 3 carte con lo stesso valore sarà per forza tris\n",
    "        return[3, 'TRIS']\n",
    "    elif massimo == 2: #DoppiaCoppia: anche in questo caso, basta assicurarsi che non si siano più di tre gruppi di valori uguali\n",
    "        if len(gruppiMostComm) == 3: #Ci sono 3 gruppi quindi conterranno rispettivamente 2, 2 e 1 carte\n",
    "            return [2, 'DOPPIA COPPIA']\n",
    "        else:\n",
    "            return [1, 'COPPIA']\n",
    "    else:\n",
    "        return [0, 'carta singola']"
   ]
  },
  {
   "cell_type": "markdown",
   "metadata": {},
   "source": [
    "Ora abbiamo tutti gli elementi per poter valutare la mano di ciascun giocatore e confrontare i risultati. Creiamo una funzione per farlo"
   ]
  },
  {
   "cell_type": "code",
   "execution_count": 33,
   "metadata": {},
   "outputs": [
    {
     "name": "stdout",
     "output_type": "stream",
     "text": [
      "La mano del G1 è SCALA , quella del G2 è FULL\n"
     ]
    }
   ],
   "source": [
    "risultatoG1 = determinaMano(manoG1)\n",
    "risultatoG2 = determinaMano(manoG2)\n",
    "print('La mano del G1 è', risultatoG1[1], ', quella del G2 è', risultatoG2[1])"
   ]
  },
  {
   "cell_type": "markdown",
   "metadata": {},
   "source": [
    "Adesso possiamo determinare il vincitore"
   ]
  },
  {
   "cell_type": "code",
   "execution_count": 34,
   "metadata": {},
   "outputs": [
    {
     "name": "stdout",
     "output_type": "stream",
     "text": [
      "Vince il giocatore 2\n"
     ]
    }
   ],
   "source": [
    "if risultatoG1[0] > risultatoG2[0]:\n",
    "    print('Vince il giocatore 1')\n",
    "elif risultatoG1[0] < risultatoG2[0]:\n",
    "    print('Vince il giocatore 2')\n",
    "else: \n",
    "    print('Pareggio')\n",
    "            \n",
    "    "
   ]
  },
  {
   "cell_type": "code",
   "execution_count": null,
   "metadata": {},
   "outputs": [],
   "source": []
  }
 ],
 "metadata": {
  "kernelspec": {
   "display_name": "Python 3",
   "language": "python",
   "name": "python3"
  },
  "language_info": {
   "codemirror_mode": {
    "name": "ipython",
    "version": 3
   },
   "file_extension": ".py",
   "mimetype": "text/x-python",
   "name": "python",
   "nbconvert_exporter": "python",
   "pygments_lexer": "ipython3",
   "version": "3.7.1"
  }
 },
 "nbformat": 4,
 "nbformat_minor": 2
}
