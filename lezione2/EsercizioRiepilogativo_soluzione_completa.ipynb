{
 "cells": [
  {
   "cell_type": "markdown",
   "metadata": {},
   "source": [
    "# ESERCIZIO RIEPILOGATIVO\n",
    "## Testo:\n",
    "\n",
    "In input si ricevono due liste di 5 carte, dove ogni carta è indicate con una stringa di 2 caratteri, valore-seme, come nell'esercizio precedente. Le due liste si chiamano carteA e carteB.\n",
    "\n",
    "L'obiettivo è determinare quale dei due giocatori ha una combinazione di valore maggiore. Determinare la combinazione corrispondente ad una lista di 5 carte è stato l'esercizio precedente.\n",
    "\n",
    "Le combinazioni, in ordine decrescente di valore sono:\n",
    "- scala reale: i valori di tutte le carte sono consecutivi e tutti dello stesso seme. Es: [\"2Q\", \"3Q\", \"4Q\", \"5Q\", \"6Q\"] \n",
    "- poker: quattro carte con lo stesso valore. Es: [\"2Q\", \"5Q\", \"5C\", \"5P\", \"5F\"] \n",
    "- full: tre carte con lo stesso valore e altre 2 carte con lo stesso valore. Es: [\"5Q\", \"5C\", \"5P\", \"1Q\", \"1F\"] \n",
    "- colore: cinque carte con lo stesso seme. Es: [\"4Q\", \"5Q\", \"0Q\", \"KQ\", \"1Q\"] \n",
    "- scala: i valori di tutte le carte sono consecutivi. Es: [\"0Q\", \"JQ\", \"QC\", \"KF\", \"1Q\"] \n",
    "- tris: tre carte con lo stesso valore. Es: [\"5Q\", \"5C\", \"5P\", \"0F\", \"1Q\"] \n",
    "- doppia coppia: due coppie di carte con lo stesso valore. Es: [\"5Q\", \"5C\", \"KF\", \"1Q\", \"1P\"] \n",
    "- coppia: due carte con lo stesso valore. Es: [\"5C\", \"5P\", \"7F\", \"0Q\", \"1Q\"] \n",
    "- carta singola: nessuna delle combinazioni precedenti. Es: [\"2Q\", \"4C\", \"6Q\", \"7P\", \"9F\"]  \n",
    "     \n",
    "Le carte nella lista sono in ordine crescente di valore e le liste non contengono carte ripetute. Se due giocatori hanno la stessa combinazione, si ha un pareggio.\n",
    "\n",
    "Varianti\n",
    "Le seguenti varianti rendono decisamente più complicata la soluzione. Non è obbligatorio risolverle.\n",
    "\n",
    "1. Nel caso i due giocatori abbiano stessa combinazione, si seguono dei criteri aggiuntivi:\n",
    "    - scala o scala reale. Si guarda il valore dell'ultima carta (quella di valore più elevato). Vince chi ha la carta di valore più elevato, a parità di valore il seme della carta, nell'ordine (dal migliore al peggiore) \"C\", \"Q\", \"F\", \"P\";\n",
    "    - poker. si guarda il valore delle quattro carte identiche;\n",
    "    - tris o full. si guarda il valore delle tre carte identiche;\n",
    "    - colore. Si guarda il valore della carta di massimo valore;\n",
    "    - coppia. Si guarda il valore delle due carte identiche. In caso di parità si guarda chi ha la carta di cuori.\n",
    "    - doppia coppia. Si guarda il valore delle due carte identiche di valore maggiore. In caso di parità si guarda il valore delle due carte identiche di valore minore. In caso di ulteriore parità si guarda il valore (e il seme) della quinta carta.\n",
    "2. Le carte in input non sono già ordinate."
   ]
  },
  {
   "cell_type": "markdown",
   "metadata": {},
   "source": [
    "Scriviamo un codice molto simile a quello scritto nell'esercizio riassuntivo della prima lezione ma questa volta lo inseriremo in funzioni, visto che le stesse linee di codice dovranno essere eseguite per entrambi i giocatori. Alcune parti si possono semplificare usando le nuove conoscenze acquisite durante la seconda lezione."
   ]
  },
  {
   "cell_type": "code",
   "execution_count": 134,
   "metadata": {},
   "outputs": [],
   "source": [
    "manoG1 = [\"0F\", \"JP\", \"QP\", \"KP\", \"1Q\"]\n",
    "manoG2 = [\"JQ\", \"KF\", \"0C\", \"1F\", \"QF\"]"
   ]
  },
  {
   "cell_type": "markdown",
   "metadata": {},
   "source": [
    "Scriviamo una funzione che prende la mano di un giocatore e definisca i gruppi di carte con lo stesso valore come una lista di triple in cui l'elemento:\n",
    "    1. è un intero che indica il numero di carte in quel gruppo.\n",
    "    2. è un intero che corrisponde al valore del gruppo di carte\n",
    "    3. è un intero che indica il valore del seme migliore per quel gruppo di carte:  \"C\" = 4, \"Q\" = 3, \"F\" = 2, \"P\" = 1;\n",
    "Esempio: [\"5Q\", \"5C\", \"KF\", \"1Q\", \"1P\"] = [[2, 1, 3],[2, 5, 4],[1, 13, 2]]\n",
    "\n",
    "In questo modo si potrà determinare facilmente quale sia la mano del giocatore e confrontarla con la mano avversaria. Questa lista sarà ordinata per il primo elemento in ordine decrescente. (useremo la funzione Count)"
   ]
  },
  {
   "cell_type": "code",
   "execution_count": 135,
   "metadata": {},
   "outputs": [],
   "source": [
    "#Prima di tutto importiamo la funzione Count dal modulo collections\n",
    "from collections import Counter"
   ]
  },
  {
   "cell_type": "code",
   "execution_count": 136,
   "metadata": {},
   "outputs": [],
   "source": [
    "def raggruppaCarte(mano): #questa funzione trasforma la mano del giocatore in un formato confrontabile\n",
    "    #Definiamo il dizionario per i valori delle carte. (questa volta è più comodo assegnare all'asso il valore 14)\n",
    "    valoriCarte = {'2': 2, \n",
    "                   '3': 3, \n",
    "                   '4': 4, \n",
    "                   '5': 5, \n",
    "                   '6': 6, \n",
    "                   '7': 7, \n",
    "                   '8': 8, \n",
    "                   '9': 9, \n",
    "                   '0': 10, \n",
    "                   'J': 11, \n",
    "                   'Q': 12, \n",
    "                   'K': 13,\n",
    "                   '1': 14\n",
    "                   }\n",
    "    #Definiamo ora anche il dizionario per il valore dei semi, ci servirà per confrontare due carte con lo stesso valore (variante 1 non obbligatoria)\n",
    "    \n",
    "    #Creiamo una lista di tuple in cui l'elemento 1 è il valore della carta e l'elemento 2 è il valore del seme\n",
    "    valoriMano = []\n",
    "    for carta in mano:\n",
    "        valoriMano.append(valoriCarte[carta[0]]) #aggiungo il valore della carta, uno alla volta\n",
    "    \n",
    "    #Usiamo la funzione Counter per trovare in un colpo solo tutti i gruppi di carte e il relativo numero. \n",
    "    #Con most_common() otteniamo una lista di tuple i valori ordinati dal più al meno frequente.\n",
    "    contaValori = Counter(valoriMano).most_common()\n",
    "    \n",
    "    #Per ogni gruppo di valori elenchiamo i semi e prendiamo il valore maggiore per ogni gruppo (questo serve per confrontare mani che finiscono in pareggio (variante 1))\n",
    "    \n",
    "    #Per poterlo fare dobbiamo definire un nuovo dizionario che associ il valore a ogni seme\n",
    "    valoriSemi = {'C' : 4,\n",
    "                  'Q' : 3,\n",
    "                  'F' : 2,\n",
    "                  'P' : 1\n",
    "                 }\n",
    "    \n",
    "    #Poi creiamo la tripla di valori nella variabile manoTrad\n",
    "    manoTrad = []\n",
    "    for g in contaValori:\n",
    "        maxVal = 0\n",
    "        for i in range(0,len(valoriMano)):    \n",
    "            if g[0] == valoriMano[i]:\n",
    "                valSeme = valoriSemi[mano[i][1]] #Estrae il seme dalla mano del giocatore e assegna a valSeme il valore corrispondente\n",
    "                if maxVal < valSeme:\n",
    "                    maxVal = valSeme\n",
    "        manoTrad.append([g[1], g[0], maxVal])  #nella tripla vogliamo quante carte, di che valore e seme più importante\n",
    "        \n",
    "    #Per la variante 2 del compito ordiniamo la lista ottenuta usando la funzione sorted(). Questa funzione ordina a partire dal primo elemento, se c'è parità ordina per il secondo e così via\n",
    "    #In questo modo avremo una funzione che ordina prima per frequenza minore: carte singole -> coppie -> tris -> poker\n",
    "    #e in secondo luogo per valore della carte, in questo modo se abbiamo una scala il primo elemento sarà sempre 1 e quindi la lista sarà ordinata per valore della carta\n",
    "    manoTrad = sorted(manoTrad) \n",
    "    \n",
    "    return manoTrad\n"
   ]
  },
  {
   "cell_type": "code",
   "execution_count": 137,
   "metadata": {},
   "outputs": [
    {
     "name": "stdout",
     "output_type": "stream",
     "text": [
      "Gicoatore 1:  [[1, 10, 2], [1, 11, 1], [1, 12, 1], [1, 13, 1], [1, 14, 3]]\n",
      "Giocatore 2:  [[1, 10, 4], [1, 11, 3], [1, 12, 2], [1, 13, 2], [1, 14, 2]]\n"
     ]
    }
   ],
   "source": [
    "gruppiCarteG1 = raggruppaCarte(manoG1)\n",
    "print('Gicoatore 1: ', gruppiCarteG1)\n",
    "gruppiCarteG2 = raggruppaCarte(manoG2)\n",
    "print('Giocatore 2: ', gruppiCarteG2)"
   ]
  },
  {
   "cell_type": "markdown",
   "metadata": {},
   "source": [
    "Ora abbiamo tutti gli elementi per poter valutare la mano di ciascun giocatore e confrontare i risultati. Creiamo una funzione per farlo"
   ]
  },
  {
   "cell_type": "code",
   "execution_count": 138,
   "metadata": {},
   "outputs": [],
   "source": [
    "def determinaMano(gruppiCarte):\n",
    "    \n",
    "    #Determiniamo se i valori siano consecutivi\n",
    "    consecutivi = False\n",
    "    if len(gruppiCarte) == 5: #Solo se ci sono 5 valori diversi ha senso verificare se siano o meno consecutivi\n",
    "        #I valori sono già ordinati e sono raccolti in gruppi quindi ci basterebbe controllare il primo e l'ultimo elemento della lista. Se hanno una differenza == 4 allora sono consecutivi perchè se ci fossero dei valori uguali i gruppi non sarebbero 5\n",
    "        #Nel nostro caso però dobbiamo anche gestire l'eccezione della scala da 1 a 5 i cui valori ordinati sarebbero 2,3,4,5,14 (ricordate che l'asso vale 14) controlliamo quindi se i primi 4 valori siano consecutivi, poi controlliamo se il 5° sia consecutivo al 4° OPPURE se sono rispettivamente 5 E 14 \n",
    "        if gruppiCarte[3][1] - gruppiCarte[0][1] == 3 and (gruppiCarte[4][1] - gruppiCarte[3][1] == 1 or (gruppiCarte[4][1] == 14 and gruppiCarte[3][1] == 5)):\n",
    "            consecutivi = True\n",
    "        \n",
    "    \n",
    "    #Determiniamo se i semi sono tutti uguali (terzo valore della tripla)\n",
    "    stesso_seme = True\n",
    "    g_0 = gruppiCarte[0][2]\n",
    "    for g in gruppiCarte[1:]:\n",
    "        if g_0 != g[2]:\n",
    "            stesso_seme = False\n",
    "            break #Basta trovare un seme diverso non occorre verificarli tutti\n",
    "\n",
    "    #Determino il numero di carte più grande e più piccolo, visto che la lista di gruppi è ordinata per frequenza il gruppo più piccolo sarà il primo, mentre il più grande sarà l'ultimo\n",
    "    massimo = gruppiCarte[-1][0]\n",
    "    minimo = gruppiCarte[0][0]\n",
    "    #NB se la mano non fosse ordinata bastava usare un altro ciclo for e cercare il massimo e il minimo come nell'esercizio della lezione 1\n",
    "    \n",
    "    #Assegno ad ogni risultato un valore da 0 a 8 per confrontare le mani dei due giocatori\n",
    "    if consecutivi and stesso_seme: \n",
    "        return [8, 'SCALA REALE']  \n",
    "    elif massimo == 4: #Poker: 4 carte con lo stesso valore\n",
    "        return [7, 'POKER']             \n",
    "    elif massimo == 3 and minimo == 2: #Full: 3 e 2 gruppi di valori.\n",
    "        return[6, 'FULL']             \n",
    "    elif stesso_seme: #Colore: basta avere carte con lo stesso seme\n",
    "        return [5, 'COLORE'] \n",
    "    elif consecutivi: #Scala: basta considerare se i valori sono tutti consecutivi\n",
    "        return [4, 'SCALA']\n",
    "    elif massimo == 3: #Tris: dopo aver escluso il full, se c'è un gruppo da 3 carte con lo stesso valore sarà per forza tris\n",
    "        return[3, 'TRIS']\n",
    "    elif massimo == 2: #DoppiaCoppia: anche in questo caso, basta assicurarsi che non si siano più di tre gruppi di valori uguali\n",
    "        if len(gruppiCarte) == 3: #Ci sono 3 gruppi quindi conterranno rispettivamente 2, 2 e 1 carte\n",
    "            return [2, 'DOPPIA COPPIA']\n",
    "        else:\n",
    "            return [1, 'COPPIA']\n",
    "    else:\n",
    "        return [0, 'carta singola']"
   ]
  },
  {
   "cell_type": "code",
   "execution_count": 139,
   "metadata": {},
   "outputs": [
    {
     "name": "stdout",
     "output_type": "stream",
     "text": [
      "La mano del G1 è SCALA , quella del G2 è SCALA\n"
     ]
    }
   ],
   "source": [
    "risultatoG1 = determinaMano(gruppiCarteG1)\n",
    "risultatoG2 = determinaMano(gruppiCarteG2)\n",
    "print('La mano del G1 è', risultatoG1[1], ', quella del G2 è', risultatoG2[1])"
   ]
  },
  {
   "cell_type": "markdown",
   "metadata": {},
   "source": [
    "Adesso possiamo determinare il vincitore"
   ]
  },
  {
   "cell_type": "code",
   "execution_count": 140,
   "metadata": {},
   "outputs": [
    {
     "name": "stdout",
     "output_type": "stream",
     "text": [
      "Vince il giocatore 1\n"
     ]
    }
   ],
   "source": [
    "if risultatoG1[0] > risultatoG2[0]:\n",
    "    print('Vince il giocatore 1')\n",
    "elif risultatoG1[0] < risultatoG2[0]:\n",
    "    print('Vince il giocatore 2')\n",
    "else: #I risultati sono uguali. Per la versione base dell'esercizio basta scrivere print('Pareggio'). Scriviamo il codice per la variante 1:\n",
    "     \n",
    "    #Scala Reale o Scala: controntiamo la carta più elevata (ricordiamoci sempre che abbiamo già la lista di gruppi ordinata)\n",
    "    if risultatoG1[0] == 8 or risultatoG1[0] == 4:  #Usiamo risultatoG1 perchè uno vale l'altro essendo uguali  \n",
    "        #Per la scala dobbiamo gestire un'eccezione determinata dal fatto che la scala che va da 1 a 5 è ordinata come 2,3,4,5,14.\n",
    "        #In questo caso la carta maggiore è 5 non l'asso.\n",
    "        if gruppiCarteG1[3][1] == 5 and gruppiCarteG1[4][1] == 14: \n",
    "            cartaMaggioreG1 = gruppiCarteG1[3]\n",
    "        else:\n",
    "            cartaMaggioreG1 = gruppiCarteG1[4]\n",
    "        \n",
    "        #Stessa cosa per il giocatore 2\n",
    "        if gruppiCarteG2[3][1] == 5 and gruppiCarteG2[4][1] == 14: \n",
    "            cartaMaggioreG2 = gruppiCarteG2[3]\n",
    "        else:\n",
    "            cartaMaggioreG2 = gruppiCarteG2[4]\n",
    "        \n",
    "        #Ora possiamo confrontarle\n",
    "        if cartaMaggioreG1[1] > cartaMaggioreG2[1] or (cartaMaggioreG1[1] == cartaMaggioreG2[1] and cartaMaggioreG1[2] > cartaMaggioreG2[2]): #Vince se ha l'ultima carta di valore maggiore o se uguale ha il seme di valore maggiore \n",
    "            print('Vince il giocatore 1')\n",
    "        else: \n",
    "            print('Vince il giocatore 2')\n",
    "    \n",
    "    #Colore e carta singola, per questo risultato dobbiamo confrontare il valore maggiore della mano, visto che non è detto essere l'ultimo elemento della lista (ricordiamo che la lista è ordinata in primo luogo per frequenza di valore, poi per valore). Quindi dobbiamo cercare il valore maggiore\n",
    "    elif risultatoG1[0] == 5 or risultatoG1[0] == 0:\n",
    "        maxG1 = [0,0]\n",
    "        for c in gruppiCarteG1:\n",
    "            if c[1] < maxG1[0]:\n",
    "                maxG1 = c[1,2] #Salva valore carta e seme corrispondente\n",
    "        maxG2 = [0,0]\n",
    "        for c in gruppiCarteG2:\n",
    "            if c[1] < maxG2:\n",
    "                maxG2 = c[1,2]    \n",
    "                \n",
    "        if maxG1[0] > maxG2[0] or (maxG1[0] == maxG2[0] and maxG1[1] > maxG2[1]): #Se il valore è uguale confrontiamo il seme\n",
    "            print('Vince il giocatore 1')\n",
    "        else:\n",
    "            print('Vince il giocatore 2')\n",
    "    \n",
    "    #Poker, Full e Tris: confrontiamo il gruppo maggiore (quello da 4 carte per poker, 3 per full o tris)\n",
    "    elif risultatoG1[0] == 7 or risultatoG1[0] == 6 or risultatoG1[0] == 3:\n",
    "        if gruppiCarteG1[-1][1] > gruppiCarteG2[-1][1]:  #Anche in questo caso basta solo questo controllo, non possono esserci gruppi con valore uguale\n",
    "            print('Vince il giocatore 1')\n",
    "        else:\n",
    "            print('Vince il giocatore 2')\n",
    "    \n",
    "    #Coppia: Si confronta la coppia (quindi l'ultimo gruppo) prima per valore, poi per seme\n",
    "    elif risultatoG1[0] == 1:\n",
    "        if gruppiCarteG1[-1][1] > gruppiCarteG2[-1][1] or (gruppiCarteG1[-1][1] == gruppiCarteG2[-1][1] and gruppiCarteG1[-1][2] > gruppiCarteG2[-1][2]):\n",
    "            print('Vince il giocatore 1')\n",
    "        else:\n",
    "            print('Vince il giocatore 2')\n",
    "    \n",
    "    else: #Manca solo di confrontare il caso in cui entrambi i giocatori abbiano doppia coppia\n",
    "        if gruppiCarteG1[2][1] != gruppiCarteG2[2][1]: #Prima confrontiamo la coppia con valore maggiore (l'ultimo gruppo nella lista)\n",
    "            if gruppiCarteG1[2][1] > gruppiCarteG2[2][1]:\n",
    "                print('Vince il giocatore 1')\n",
    "            else:\n",
    "                print('Vince il giocatore 2')\n",
    "        else: #Poi confrontiamo la coppia di valore minore se la prima ha lo stesso valore\n",
    "            if gruppiCarteG1[1][1] != gruppiCarteG2[1][1]: \n",
    "                if gruppiCarteG1[1][1] > gruppiCarteG2[1][1]:\n",
    "                    print('Vince il giocatore 1')\n",
    "                else:\n",
    "                    print('Vince il giocatore 2')                \n",
    "            else: #Confrontiamo la carta singola, se avremo un ulteriore pareggio confrontiamo il seme di questa carta\n",
    "                if gruppiCarteG1[0][1] > gruppiCarteG2[0][1] or (gruppiCarteG1[0][1] == gruppiCarteG2[0][1] and gruppiCarteG1[0][2] > gruppiCarteG2[0][2]):\n",
    "                    print('Vince il giocatore 1')\n",
    "                else:\n",
    "                    print('Vince il giocatore 2')\n",
    "            \n",
    "    "
   ]
  },
  {
   "cell_type": "code",
   "execution_count": null,
   "metadata": {},
   "outputs": [],
   "source": []
  }
 ],
 "metadata": {
  "kernelspec": {
   "display_name": "Python 3",
   "language": "python",
   "name": "python3"
  },
  "language_info": {
   "codemirror_mode": {
    "name": "ipython",
    "version": 3
   },
   "file_extension": ".py",
   "mimetype": "text/x-python",
   "name": "python",
   "nbconvert_exporter": "python",
   "pygments_lexer": "ipython3",
   "version": "3.7.1"
  }
 },
 "nbformat": 4,
 "nbformat_minor": 2
}
