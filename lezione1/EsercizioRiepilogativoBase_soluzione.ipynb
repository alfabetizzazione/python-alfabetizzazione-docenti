{
 "cells": [
  {
   "cell_type": "markdown",
   "metadata": {},
   "source": [
    "# Esercizio riepilogativo: Scelta treno\n",
    "\n",
    "Un treno viene rappresentato con una lista di cinque elementi: il codice del treno, la stazione di partenza, la stazione di arrivo, ora di partenza, minuto di partenza. Si prenda come esempio treno1 = `['AV1002', 'Milano Centrale', 'Napoli Centrale', 18, 30]` che corrisponde al treno con codice AV1002 che parte da Milano Centrale alle 18:30, con destinazione Napoli Centrale.\n",
    "\n",
    "Si ricevono in ingresso 4 treni:\n",
    "\n",
    "    treno1 = ['AV1002', 'Milano Centrale', 'Napoli Centrale', 18, 30]\n",
    "    treno2 = ['AV1022', 'Milano Centrale', 'Napoli Centrale', 19, 10]\n",
    "    treno3 = ['AV1012', 'Napoli Centrale', 'Milano Centrale', 18, 50]\n",
    "    treno4 = ['AV1011', 'Napoli Centrale', 'Milano Centrale', 19, 00]\n",
    "\n",
    "Scrivere un notebook che determini:\n",
    "\n",
    "1. il primo treno che parte dopo le 18:45\n",
    "2. il primo treno che parte da Milano Centrale dopo le 18:45\n",
    "3.  il primo treno che parte da Milano Centrale dopo le 20:00\n",
    "\n",
    "Riflettere sui seguenti aspetti:\n",
    "\n",
    "1. Come posso gestire un elenco arbitrario di treni, di cui non conosco la numerosità (quindi potrei avere più di quattro liste da gestire)?\n",
    "2. Come posso controllare se esistono due treni con lo stesso codice?"
   ]
  },
  {
   "cell_type": "markdown",
   "metadata": {},
   "source": [
    "# Possibile soluzione\n",
    "\n",
    "Per prima cosa salviamo le liste relative ai 4 treni."
   ]
  },
  {
   "cell_type": "code",
   "execution_count": 1,
   "metadata": {},
   "outputs": [],
   "source": [
    "treno1 = ['AV1002', 'Milano Centrale', 'Napoli Centrale', 18, 30]\n",
    "treno2 = ['AV1022', 'Milano Centrale', 'Napoli Centrale', 19, 10]\n",
    "treno3 = ['AV1012', 'Napoli Centrale', 'Milano Centrale', 18, 50]\n",
    "treno4 = ['AV1011', 'Napoli Centrale', 'Milano Centrale', 19, 00]"
   ]
  },
  {
   "cell_type": "markdown",
   "metadata": {},
   "source": [
    "## 1. Determinare il primo treno che parte dopo le 18.45\n",
    "\n",
    "Per risolvere questo esercizio verifichiamo in successione le proprietà dei quattro treni salvate all'interno delle variabili `treno1`, `treno2`, `treno3` e `treno4`.\n",
    "Le informazioni relative al primo treno che parte dopo le 18.45 verranno salvate in una variabile chiamata `primo_treno_dopo_1845`.\n",
    "Per prima cosa definiamo quest'ultima variabile."
   ]
  },
  {
   "cell_type": "code",
   "execution_count": 2,
   "metadata": {},
   "outputs": [],
   "source": [
    "primo_treno_dopo_1845 = None"
   ]
  },
  {
   "cell_type": "markdown",
   "metadata": {},
   "source": [
    "Questa variabile è inizializzata a `None` per rappresentare il fatto che in questo momento non sappiamo quale sia il treno giusto.\n",
    "\n",
    "Verifichiamo ora se `treno1` parte dopo le 18.45, se ciò è vero, salviamo le informazioni relative a `treno1` in `primo_treno_dopo_le_1845`."
   ]
  },
  {
   "cell_type": "code",
   "execution_count": 3,
   "metadata": {},
   "outputs": [],
   "source": [
    "if treno1[3] >= 19:\n",
    "    primo_treno_dopo_1845 = treno1\n",
    "elif treno1[3] == 18 and treno1[4] >= 45:\n",
    "    primo_treno_dopo_1845 = treno1"
   ]
  },
  {
   "cell_type": "markdown",
   "metadata": {},
   "source": [
    "Notate che è anche possibile combinare le due condizioni in un unico test, come segue.\n",
    "```python\n",
    "if (treno1[3] >= 19) or (treno1[3] == 18 and treno1[4] >= 45):\n",
    "    primo_treno_dopo_1845 = treno1\n",
    "```\n",
    "Attenzione all'utilizzo delle parentesi che impongono il corretto ordine di valutazione delle clausule."
   ]
  },
  {
   "cell_type": "markdown",
   "metadata": {},
   "source": [
    "Verifichiamo ora il valore di `primo_treno_dopo_1845`."
   ]
  },
  {
   "cell_type": "code",
   "execution_count": 4,
   "metadata": {},
   "outputs": [
    {
     "name": "stdout",
     "output_type": "stream",
     "text": [
      "None\n"
     ]
    }
   ],
   "source": [
    "print(primo_treno_dopo_1845)"
   ]
  },
  {
   "cell_type": "markdown",
   "metadata": {},
   "source": [
    "Come prevedibile, dato che la partenza di `treno1` è alle 18.30, il valore di `primo_treno_dopo_1845` è ancora `None`.\n",
    "Verifichiamo ora le informazioni relative a `treno2`."
   ]
  },
  {
   "cell_type": "code",
   "execution_count": 5,
   "metadata": {},
   "outputs": [
    {
     "name": "stdout",
     "output_type": "stream",
     "text": [
      "['AV1022', 'Milano Centrale', 'Napoli Centrale', 19, 10]\n"
     ]
    }
   ],
   "source": [
    "if (treno2[3] >= 19) or (treno2[3] == 18 and treno2[4] >= 45):\n",
    "    primo_treno_dopo_1845 = treno2\n",
    "print(primo_treno_dopo_1845)"
   ]
  },
  {
   "cell_type": "markdown",
   "metadata": {},
   "source": [
    "In questo caso il valore di `primo_treno_dopo_1845` è stato modificato, dato che `treno2` parte alle 19.10.\n",
    "Lo step successivo è verificare se `treno3` parte dopo le 18.45 **e** prima delle informazioni salvate in `primo_treno_dopo_1845`.\n",
    "Notate che le condizioni utilizzate in precedenza non sono più sufficienti per determinare il primo treno che parte dopo le 18.45; dobbiamo infatti verificare anche che `treno3` parta prima di quello già identificato."
   ]
  },
  {
   "cell_type": "code",
   "execution_count": 6,
   "metadata": {},
   "outputs": [
    {
     "name": "stdout",
     "output_type": "stream",
     "text": [
      "['AV1012', 'Napoli Centrale', 'Milano Centrale', 18, 50]\n"
     ]
    }
   ],
   "source": [
    "if (treno3[3] >= 19) or (treno3[3] == 18 and treno3[4] >= 45):\n",
    "    if (primo_treno_dopo_1845[3] > treno3[3]) or (primo_treno_dopo_1845[3] == treno3[3] and primo_treno_dopo_1845[4] > treno3[4]):\n",
    "        primo_treno_dopo_1845 = treno3\n",
    "print(treno3)"
   ]
  },
  {
   "cell_type": "markdown",
   "metadata": {},
   "source": [
    "In questo test abbiamo aggiunto un `if`.  Infatti, per modificare `primo_treno_dopo_1845` dobbiamo prima verificare che la partenza di `treno3` sia successiva alle 18.45 e poi assicurarci che il treno parta prima di quello salvato in `primo_treno_dopo_1845`."
   ]
  },
  {
   "cell_type": "markdown",
   "metadata": {},
   "source": [
    "Verifichiamo ora se `treno4` è il primo treno che parte dopo le 18.45.\n",
    "La logica è simile a quella dello step precedente."
   ]
  },
  {
   "cell_type": "code",
   "execution_count": 7,
   "metadata": {},
   "outputs": [
    {
     "name": "stdout",
     "output_type": "stream",
     "text": [
      "['AV1011', 'Napoli Centrale', 'Milano Centrale', 19, 0]\n"
     ]
    }
   ],
   "source": [
    "if (treno4[3] >= 19) or (treno4[3] == 18 and treno4[4] >= 45):\n",
    "    if (primo_treno_dopo_1845[3] > treno4[4]) or (primo_treno_dopo_1845[3] == treno4[3] and primo_treno_dopo_1845[4] > treno4[4]):\n",
    "        primo_treno_dopo_1845 = treno3\n",
    "print(treno4)"
   ]
  },
  {
   "cell_type": "markdown",
   "metadata": {},
   "source": [
    "## 2. Determinare il primo treno che parte da Milano Centrale dopo le 18:45\n",
    "\n",
    "La soluzione di questo esercizio è molto simile a quella dell'esercizio precedente.\n",
    "L'unica differenza è che dovremo verificare di volta in volta che la stazione di partenza (salvata nel secondo campo delle liste) sia Milano Centrale."
   ]
  },
  {
   "cell_type": "code",
   "execution_count": 8,
   "metadata": {},
   "outputs": [],
   "source": [
    "primo_treno_da_MC_dopo_1845 = None"
   ]
  },
  {
   "cell_type": "markdown",
   "metadata": {},
   "source": [
    "Come fatto in precedenza creiamo una variabile per salvare le informazioni relative al treno cercato."
   ]
  },
  {
   "cell_type": "code",
   "execution_count": 9,
   "metadata": {},
   "outputs": [
    {
     "name": "stdout",
     "output_type": "stream",
     "text": [
      "None\n"
     ]
    }
   ],
   "source": [
    "if treno1[1] == 'Milano Centrale':\n",
    "    if (treno1[3] >= 19) or (treno1[3] == 18 and treno1[4] >= 45):\n",
    "        primo_treno_da_MC_dopo_1845 = treno1\n",
    "print(primo_treno_da_MC_dopo_1845)"
   ]
  },
  {
   "cell_type": "markdown",
   "metadata": {},
   "source": [
    "Seppur `treno1` parta da Milano Centrale il suo orario di partenza è precedente alle 18.45 e di conseguenza `primo_treno_da_MC_dopo_1845` non viene modificata.\n",
    "I due `if` innestati possono essere riscritti come segue (notate ancora l'utilizzo delle parentesi)·\n",
    "```python\n",
    "if (treno1[1] == 'Milano Centrale') and ((treno1[3] >= 19) or (treno1[3] == 18 and (treno1[4] >= 45))):\n",
    "    primo_treno_da_MC_dopo_1845 = treno1\n",
    "```\n",
    "Come fatto in precedenza, utilizzeremo questa versione più concisa nei prossimi step.\n",
    "Le due versioni sono comunque equivalenti.\n",
    "\n",
    "Verifichiamo ora le informazioni di `treno2`."
   ]
  },
  {
   "cell_type": "code",
   "execution_count": 10,
   "metadata": {},
   "outputs": [
    {
     "name": "stdout",
     "output_type": "stream",
     "text": [
      "['AV1022', 'Milano Centrale', 'Napoli Centrale', 19, 10]\n"
     ]
    }
   ],
   "source": [
    "if (treno2[1] == 'Milano Centrale') and ((treno2[3] >= 19) or (treno2[3] == 18 and (treno2[4] >= 45))):\n",
    "    primo_treno_da_MC_dopo_1845 = treno2\n",
    "\n",
    "print(primo_treno_da_MC_dopo_1845)"
   ]
  },
  {
   "cell_type": "markdown",
   "metadata": {},
   "source": [
    "`treno2` parte da Milano Centrale alle 19.10, di conseguenza il valore di `primo_treno_da_MV_dopo_1845` viene aggiornato correttamente.\n",
    "Passiamo ora a verificare `treno3`."
   ]
  },
  {
   "cell_type": "code",
   "execution_count": 11,
   "metadata": {},
   "outputs": [
    {
     "name": "stdout",
     "output_type": "stream",
     "text": [
      "['AV1022', 'Milano Centrale', 'Napoli Centrale', 19, 10]\n"
     ]
    }
   ],
   "source": [
    "if (treno3[1] == 'Milano Centrale') and ((treno3[3] >= 19) or (treno3[3] == 18 and (treno3[4] >= 45))):\n",
    "    if (primo_treno_da_MC_dopo_1845[3] > treno3[3]) or (primo_treno_da_MC_dopo_1845[3] == treno3[3] and primo_treno_da_MC_dopo_1845[4] > treno3[4]):\n",
    "        primo_treno_da_MC_dopo_1845 = treno3\n",
    "print(primo_treno_da_MC_dopo_1845)"
   ]
  },
  {
   "cell_type": "markdown",
   "metadata": {},
   "source": [
    "In questo caso è necessario utilizzare due `if` innsestati.  Il primo verifica che `treno3` parta da Milano Centrale dopo le 18.45, nel caso questo sia vero, il secondo `if` verifica che la partenza sia precedente a quella del treno già salvato in `primo_treno_da_MV_dopo_1845`.\n",
    "\n",
    "Dato che `treno3` parte da Napoli Centrale, il primo if fallisce e quindi le istruzioni seguenti non vengono valutate.\n",
    "\n",
    "In modo simile a quanto fatto per `treno3`, verifichiamo ora se `treno4` è il primo treno che parte da Milano Centrale dopo le 18.45."
   ]
  },
  {
   "cell_type": "code",
   "execution_count": 12,
   "metadata": {},
   "outputs": [
    {
     "name": "stdout",
     "output_type": "stream",
     "text": [
      "['AV1022', 'Milano Centrale', 'Napoli Centrale', 19, 10]\n"
     ]
    }
   ],
   "source": [
    "if (treno4[1] == 'Milano Centrale') and ((treno4[3] >= 19) or (treno4[3] == 18 and (treno4[4] >= 45))):\n",
    "    if (primo_treno_da_MC_dopo_1845[3] > treno4[3]) or (primo_treno_da_MC_dopo_1845[3] == treno4[3] and primo_treno_da_MC_dopo_1845[4] > treno4[4]):\n",
    "        primo_treno_da_MC_dopo_1845 = treno3\n",
    "print(primo_treno_da_MC_dopo_1845)"
   ]
  },
  {
   "cell_type": "markdown",
   "metadata": {},
   "source": [
    "Dato che anche `treno4` è in partenza da Napoli Centrale, il valore di `primo_treno_da_MC_dopo_1845` non viene modificato."
   ]
  },
  {
   "cell_type": "markdown",
   "metadata": {},
   "source": [
    "### 3. Determinare il primo treno che parte da Milano Centrale dopo le 20:00\n",
    "\n",
    "Questo esercizio è estremamente simile all'esercizio 2.\n",
    "L'unica differenza sta nella verfica degli orari di partenza.\n",
    "Verifichiamo per prima cosa il primoe treno."
   ]
  },
  {
   "cell_type": "code",
   "execution_count": 13,
   "metadata": {},
   "outputs": [],
   "source": [
    "primo_treno_da_MC_dopo_2000 = None"
   ]
  },
  {
   "cell_type": "code",
   "execution_count": 14,
   "metadata": {},
   "outputs": [
    {
     "name": "stdout",
     "output_type": "stream",
     "text": [
      "None\n"
     ]
    }
   ],
   "source": [
    "if treno1[1] == 'Milano Centrale' and treno1[3] >= 20:\n",
    "    primo_treno_da_MC_dopo_2000 = treno1\n",
    "print(primo_treno_da_MC_dopo_2000)"
   ]
  },
  {
   "cell_type": "markdown",
   "metadata": {},
   "source": [
    "Notate che l'`if` utilizzato per verificare l'orario è più semplice dato che non è più necessario verificare i minuti.\n",
    "\n",
    "In questo esercizio cerchiamo di rendere il codice più generico.\n",
    "A differenza di quanto fatto primoa, nei prossimi test verificheremo se `primo_treno_dopo_2000` è `None`; in questo modo, variando i valori di `treno1`, `treno2`, `treno3` e `treno4` otterremo comunque la soluzione corretta.\n",
    "\n",
    "*Nota: cambiano i valori di `treno1`, `treno2`, `treno3` e `treno4` il codice degli esercizi precedenti fornisce la risposta corretta?  Se no, perché?\n",
    "(suggerimento: provate a pensare al comportamento del codice se `treno1` fosse uguale alla lista ['AV1002', 'Milano Centrale', 'Napoli Centrale', 18, 47])*"
   ]
  },
  {
   "cell_type": "code",
   "execution_count": 15,
   "metadata": {},
   "outputs": [],
   "source": [
    "if treno2[1] == 'Milano Centrale' and treno2[3] >= 20:\n",
    "    if primo_treno_da_MC_dopo_2000 == None:\n",
    "        primo_treno_da_MC_dopo_2000 = treno2\n",
    "    else:\n",
    "        # In questo caso qualche informazione è stata salvata in primo_treno_da_MC_dopo_2000\n",
    "        # E' necessario quindi verificare che la partenza di treno2 sia precedente.\n",
    "        if primo_treno_da_MC_dopo_2000[3] > treno2[3]:\n",
    "            primo_treno_da_MC_dopo_2000 = treno2\n",
    "        elif primo_treno_da_MC_dopo_2000[3] == treno2[3] and primo_treno_da_MC_dopo_2000[4] > treno2[4]:\n",
    "            primo_treno_da_MC_dopo_2000 = treno2\n",
    "\n",
    "if treno3[1] == 'Milano Centrale' and treno3[3] >= 20:\n",
    "    if primo_treno_da_MC_dopo_2000 == None:\n",
    "        primo_treno_da_MC_dopo_2000 = treno3\n",
    "    else:\n",
    "        if primo_treno_da_MC_dopo_2000[3] > treno3[3]:\n",
    "            primo_treno_da_MC_dopo_2000 = treno3\n",
    "        elif primo_treno_da_MC_dopo_2000[3] == treno3[3] and primo_treno_da_MC_dopo_2000[4] > treno3[4]:\n",
    "            primo_treno_da_MC_dopo_2000 = treno3\n",
    "\n",
    "if treno4[1] == 'Milano Centrale' and treno4[3] >= 20:\n",
    "    if primo_treno_da_MC_dopo_2000 == None:\n",
    "        primo_treno_da_MC_dopo_2000 = treno4\n",
    "    else:\n",
    "        if primo_treno_da_MC_dopo_2000[3] > treno4[3]:\n",
    "            primo_treno_da_MC_dopo_2000 = treno4\n",
    "        elif primo_treno_da_MC_dopo_2000[3] == treno4[3] and primo_treno_da_MC_dopo_2000[4] > treno4[4]:\n",
    "            primo_treno_da_MC_dopo_2000 = treno4"
   ]
  },
  {
   "cell_type": "markdown",
   "metadata": {},
   "source": [
    "A questo punto abbiamo testato tutti i treni e cercato il primo che parte da Milano Centrale dopo le 20.00.\n",
    "Verifichiamo cosa contiene la variabile `primo_treno_da_MC_dopo_2000`."
   ]
  },
  {
   "cell_type": "code",
   "execution_count": 16,
   "metadata": {},
   "outputs": [
    {
     "name": "stdout",
     "output_type": "stream",
     "text": [
      "None\n"
     ]
    }
   ],
   "source": [
    "print(primo_treno_da_MC_dopo_2000)"
   ]
  },
  {
   "cell_type": "markdown",
   "metadata": {},
   "source": [
    "`primo_treno_da_MC_dopo_2000` non contiene alcun valore dato che nessun treno soddisfa i requisiti (nessun treno parte dopo le 20.00).\n",
    "Scrivendo il vostro codice, potete sfruttare questa informazione per fornire un messaggio di errore o una segnalazione all'utente, come segue."
   ]
  },
  {
   "cell_type": "code",
   "execution_count": 17,
   "metadata": {},
   "outputs": [
    {
     "name": "stdout",
     "output_type": "stream",
     "text": [
      "[ATTENZIONE]: Nessun treno soddisfa i criteri richiesti!\n"
     ]
    }
   ],
   "source": [
    "if primo_treno_da_MC_dopo_2000 == None:\n",
    "    print(\"[ATTENZIONE]: Nessun treno soddisfa i criteri richiesti!\")\n",
    "else:\n",
    "    print(\"Il treno con codice \", primo_treno_da_MC_dopo_2000[0], \" è il primo in partenza da Milano Centrale dopo le 20.00\")"
   ]
  },
  {
   "cell_type": "markdown",
   "metadata": {},
   "source": [
    "# Domande aggiuntive\n",
    "\n",
    "## 1. Come posso gestire un elenco arbitrario di treni, di cui non conosco la numerosità (quindi potrei avere più di quattro liste da gestire)?\n",
    "\n",
    "Solitamente il numero di elementi in input non è noto ed è quindi impossibile definire una variabile per ogni treno.\n",
    "Un modo per risolvere questo problema è utilizzare una lista che contenga tutte le informazioni dei treni in input (ovvero una lista di liste!).\n",
    "\n",
    "Per darvi un'idea di come il codice diventi molto più elegante utilizzando questa struttra dati, proviamo a creare una lista contenete tutte le informazioni dei treni (chiameremo questa lista `treni`) e risolviamo di nuovo tutti gli esercizi utilizzandola."
   ]
  },
  {
   "cell_type": "code",
   "execution_count": 18,
   "metadata": {},
   "outputs": [
    {
     "name": "stdout",
     "output_type": "stream",
     "text": [
      "[['AV1002', 'Milano Centrale', 'Napoli Centrale', 18, 30], ['AV1022', 'Milano Centrale', 'Napoli Centrale', 19, 10], ['AV1012', 'Napoli Centrale', 'Milano Centrale', 18, 50], ['AV1011', 'Napoli Centrale', 'Milano Centrale', 19, 0]]\n"
     ]
    }
   ],
   "source": [
    "treni = [treno1, treno2, treno3, treno4]\n",
    "print(treni)"
   ]
  },
  {
   "cell_type": "markdown",
   "metadata": {},
   "source": [
    "Notate che `treni` è una lista di liste."
   ]
  },
  {
   "cell_type": "markdown",
   "metadata": {},
   "source": [
    "#### 1. Determinare il primo treno che parte dopo le 18:45\n",
    "Determiniamo ora il primo treno che parte dopo le 18.45.\n",
    "Per fare ciò, scorriamo tutti i treni in `treni`, selezioniamo solo quelli che partono dopo le 18.45 e salviamo in una variabile il treno tra questi che parte prima."
   ]
  },
  {
   "cell_type": "code",
   "execution_count": 19,
   "metadata": {},
   "outputs": [
    {
     "name": "stdout",
     "output_type": "stream",
     "text": [
      "['AV1012', 'Napoli Centrale', 'Milano Centrale', 18, 50]\n"
     ]
    }
   ],
   "source": [
    "primo_treno_dopo_1845 = None\n",
    "for treno in treni:\n",
    "    if treno[3] >= 19 or (treno[3] == 18 and treno[4] >= 45):\n",
    "        # Per prima cosa verifichiamo se il treno che stiamo analizzando in questo\n",
    "        # momento è il primo treno che parte dopo le 18.45 che abbiamo incontrato scandendo\n",
    "        # la lista treni (ovvero se primo_treno_dopo_1845 è uguale a None)\n",
    "        if primo_treno_dopo_1845 == None:\n",
    "            primo_treno_dopo_1845 = treno\n",
    "        else:\n",
    "            # In questo caso dobbiamo verificare se il treno che stiamo analizzando in questo momento\n",
    "            # ha un orario di partenza precedente a quello salvato in primo_treno_dopo_1845\n",
    "            if primo_treno_dopo_1845[3] > treno[3]:\n",
    "                primo_treno_dopo_1845 = treno\n",
    "            elif primo_treno_dopo_1845[3] == treno[3] and primo_treno_dopo_1845[4] > treno[4]:\n",
    "                primo_treno_dopo_1845 = treno\n",
    "            # Se nessuna delle due condizioni precedenti è vera non è necessario modificare\n",
    "            # il valore di primo_treno_dopo_1845 siccome il treno analizzato in questo momento\n",
    "            # ha un orario di partenza successivo a quello già salvato.\n",
    "\n",
    "print(primo_treno_dopo_1845)"
   ]
  },
  {
   "cell_type": "markdown",
   "metadata": {},
   "source": [
    "#### 2. Determinare il primo treno che parte da Milano Centrale dopo le 18:45\n",
    "\n",
    "La soluzione a questo esercizio è molto simile a quella dell'esercizio precedente.  L'unica differenza è verificare che la stazione di partenza del treno (ovvero il secondo campo della lista) sia `Milano Centrale`."
   ]
  },
  {
   "cell_type": "code",
   "execution_count": 20,
   "metadata": {},
   "outputs": [
    {
     "name": "stdout",
     "output_type": "stream",
     "text": [
      "['AV1022', 'Milano Centrale', 'Napoli Centrale', 19, 10]\n"
     ]
    }
   ],
   "source": [
    "primo_treno_da_MC_dopo_1845 = None\n",
    "for treno in treni:\n",
    "    if treno[1] == 'Milano Centrale':\n",
    "        if treno[3] >= 19 or (treno[3] == 18 and treno[4] >= 45):\n",
    "            if primo_treno_da_MC_dopo_1845 == None:\n",
    "                primo_treno_da_MC_dopo_1845 = treno\n",
    "            else:\n",
    "                if primo_treno_da_MC_dopo_1845[3] > treno[3]:\n",
    "                    primo_treno_da_MC_dopo_1845 = treno\n",
    "                elif primo_treno_da_MC_dopo_1845[3] == treno[3] and primo_treno_da_MC_dopo_1845[4] > treno[4]:\n",
    "                    primo_treno_da_MC_dopo_1845 = treno\n",
    "\n",
    "print(primo_treno_da_MC_dopo_1845)"
   ]
  },
  {
   "cell_type": "markdown",
   "metadata": {},
   "source": [
    "#### 3. Determinare il primo treno che parte da Milano Centrale dopo le 20:00"
   ]
  },
  {
   "cell_type": "code",
   "execution_count": 21,
   "metadata": {},
   "outputs": [
    {
     "name": "stdout",
     "output_type": "stream",
     "text": [
      "[ATTENZIONE]: Nessun treno soddisfa i criteri richiesti!\n"
     ]
    }
   ],
   "source": [
    "primo_treno_da_MC_dopo_2000 = None\n",
    "for treno in treni:\n",
    "    if treno[1] == 'Milano Centrale':\n",
    "        if treno[3] >= 20:\n",
    "            if primo_treno_da_MC_dopo_2000 == None:\n",
    "                primo_treno_da_MC_dopo_2000 = treno\n",
    "            else:\n",
    "                if primo_treno_da_MC_dopo_2000[3] > treno[3]:\n",
    "                    primo_treno_da_MC_dopo_2000 = treno\n",
    "                elif primo_treno_da_MC_dopo_2000[3] == treno[3] and primo_treno_da_MC_dopo_2000[4] > treno[4]:\n",
    "                    primo_treno_da_MC_dopo_2000 = treno\n",
    "\n",
    "# Nel caso non ci siano treni in partenza da Milano Centrale dopo le 20 il valore della variabile\n",
    "# primo_treno_da_MC_dopo_2000 non viene mai cambiato e sarà uguale a None.\n",
    "# Possiamo sfruttare questo valore per verificare l'assenza di treni adatti.\n",
    "if primo_treno_da_MC_dopo_2000 == None:\n",
    "    print(\"[ATTENZIONE]: Nessun treno soddisfa i criteri richiesti!\")\n",
    "else:\n",
    "    print(\"Il treno con codice \", primo_treno_da_MC_dopo_2000[0], \" è il primo in partenza da Milano Centrale dopo le 20.00\")"
   ]
  },
  {
   "cell_type": "markdown",
   "metadata": {},
   "source": [
    "## 2. Come posso controllare se esistono due treni con lo stesso codice?\n",
    "\n"
   ]
  },
  {
   "cell_type": "markdown",
   "metadata": {},
   "source": [
    "Un modo per risolvere questo quesito è quello di scandire tutte le liste nella lista `treni` (ovvero tutti i treni), per ogni lista estrarre il primo valore (ovvero il codice) e verificare quante volte questo valore occorre come primo elemento delle liste in `treni`.\n",
    "Se il numero di occorrenze è maggiore di 1 allora esistono due treni con lo stesso codice.\n",
    "\n",
    "Il codice che segue esegue esattamente queste operazioni attraverso l'utilizzo di due cicli `for` innestati."
   ]
  },
  {
   "cell_type": "code",
   "execution_count": 22,
   "metadata": {},
   "outputs": [
    {
     "name": "stdout",
     "output_type": "stream",
     "text": [
      "AV1022  occorre  2  volte\n",
      "AV1022  occorre  2  volte\n"
     ]
    }
   ],
   "source": [
    "treni_con_doppione = [treno1, treno2, treno3, treno4, treno2]\n",
    "\n",
    "for treno in treni_con_doppione:\n",
    "    codice = treno[0]\n",
    "    occorrenze = 0\n",
    "    for treno in treni_con_doppione:\n",
    "        if codice == treno[0]:\n",
    "            occorrenze = occorrenze + 1\n",
    "    if occorrenze > 1:\n",
    "        print(codice, \" occorre \", occorrenze, \" volte\")"
   ]
  },
  {
   "cell_type": "markdown",
   "metadata": {},
   "source": [
    "**Perché il messaggio viene stampato due volte?**\n",
    "\n",
    "Questo accade proprio perché il codice è presente due volte e quindi l'analisi di entrambe le occorrenze di `treno2` in `treni_con_doppione` produrrà il messaggio.\n",
    "\n",
    "**Possiamo evitare questo comportamento?**\n",
    "\n",
    "Sì.\n",
    "Possiamo utilizzare una lista di supporto chiamata `doppioni`.\n",
    "Scandendo i treni nella lista `treni_con_doppione` verifichiamo se il codice del treno è presente in più treni e, se questoaccade, aggiungiamo questa informazione a `treni_con_doppione` **solo se non è già presente** (evitando di inserire due volte lo stesso valore).\n",
    "Alla fine dell'analisi andremo a stampare i codici presenti nella lista di supporto (che saranno unici)."
   ]
  },
  {
   "cell_type": "code",
   "execution_count": 23,
   "metadata": {},
   "outputs": [
    {
     "name": "stdout",
     "output_type": "stream",
     "text": [
      "AV1022 è presente più volte\n",
      "AV1011 è presente più volte\n"
     ]
    }
   ],
   "source": [
    "treni_con_doppione = [treno1, treno2, treno3, treno4, treno2, treno4] # NOTA: questa lista è diversa dalla precedente\n",
    "doppioni = []\n",
    "for treno in treni_con_doppione:\n",
    "    codice = treno[0]\n",
    "    occorrenze = 0\n",
    "    for treno in treni_con_doppione:\n",
    "        if codice == treno[0]:\n",
    "            occorrenze = occorrenze + 1\n",
    "    if occorrenze > 1 and codice not in doppioni:\n",
    "        doppioni = doppioni + [codice]\n",
    "\n",
    "# Stampa dei codici ripetuti\n",
    "for codice in doppioni:\n",
    "    print(codice, \"è presente più volte\")"
   ]
  }
 ],
 "metadata": {
  "kernelspec": {
   "display_name": "Python 3",
   "language": "python",
   "name": "python3"
  },
  "language_info": {
   "codemirror_mode": {
    "name": "ipython",
    "version": 3
   },
   "file_extension": ".py",
   "mimetype": "text/x-python",
   "name": "python",
   "nbconvert_exporter": "python",
   "pygments_lexer": "ipython3",
   "version": "3.6.7"
  }
 },
 "nbformat": 4,
 "nbformat_minor": 2
}
